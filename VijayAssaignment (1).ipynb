{
  "metadata": {
    "kernelspec": {
      "name": "python",
      "display_name": "Python (Pyodide)",
      "language": "python"
    },
    "language_info": {
      "codemirror_mode": {
        "name": "python",
        "version": 3
      },
      "file_extension": ".py",
      "mimetype": "text/x-python",
      "name": "python",
      "nbconvert_exporter": "python",
      "pygments_lexer": "ipython3",
      "version": "3.8"
    }
  },
  "nbformat_minor": 5,
  "nbformat": 4,
  "cells": [
    {
      "id": "087f7be2-1fbd-4961-95e2-613251c462bf",
      "cell_type": "code",
      "source": "# Data Science Tools and Techniques",
      "metadata": {
        "trusted": true
      },
      "outputs": [],
      "execution_count": 1
    },
    {
      "id": "57c14fb7-1e7c-404e-a101-2d5a8deec63f",
      "cell_type": "markdown",
      "source": "# Exercise 2 - Create a markdown cell with the title of the notebook. (1 pt)\n# In a Jupyter Notebook cell, change the cell type to \"Markdown\" and type:\n# # Data Science Tools and Techniques\n",
      "metadata": {}
    },
    {
      "id": "ba1e4e5d-4c9f-465b-97f8-bccb8546ab1e",
      "cell_type": "markdown",
      "source": " #  \"Markdown\" and type:",
      "metadata": {}
    },
    {
      "id": "7ba78f06-4e08-49d5-a9f0-f1c14b985fee",
      "cell_type": "markdown",
      "source": "\n# Exercise 3 - Create a markdown cell for an introduction. (1 pt)\n# In a Jupyter Notebook cell, change the cell type to \"Markdown\" and type:\n# ## Introduction\n# This notebook provides an overview of essential tools, languages, and libraries used in data science. We'll explore arithmetic expressions, conversions, and more.\n",
      "metadata": {}
    },
    {
      "id": "13c4d9b2-58de-461a-a933-7013c974122f",
      "cell_type": "markdown",
      "source": "\n# Exercise 4 - Create a markdown cell to list data science languages. (3 pts)\n# In a Jupyter Notebook cell, change the cell type to \"Markdown\" and type:\n# ## Data Science Languages\n#\n# * Python\n# * R\n# * SQL\n# * Scala\n# * Java\n# * Julia\n",
      "metadata": {}
    },
    {
      "id": "b68d4e80-6ce2-4efc-9254-4f3f0452e056",
      "cell_type": "markdown",
      "source": "\n# Exercise 5 - Create a markdown cell to list data science libraries. (3 pts)\n# In a Jupyter Notebook cell, change the cell type to \"Markdown\" and type:\n# ## Data Science Libraries\n#\n# * NumPy\n# * Pandas\n# * Scikit-learn\n# * Matplotlib\n# * Seaborn\n# * ggplot2\n",
      "metadata": {}
    },
    {
      "id": "0c30f2e9-74d3-4255-a3ed-04bc25c8af0b",
      "cell_type": "markdown",
      "source": "\n# Exercise 6 - Create a markdown cell with a table of Data Science tools. (3 pts)\n# In a Jupyter Notebook cell, change the cell type to \"Markdown\" and type:\n# ## Data Science Tools\n#\n# | Category          | Tool                |\n# | :---------------- | :------------------ |\n# | Data Management   | MySQL, PostgreSQL   |\n# | Data Visualization | Tableau, Power BI   |\n# | Machine Learning  | TensorFlow, PyTorch |\n# | Big Data          | Hadoop, Spark       |\n# | Cloud Computing   | AWS, Azure, GCP     |\n",
      "metadata": {}
    },
    {
      "id": "f3873254-05b1-4f73-8d85-858b87ffe454",
      "cell_type": "markdown",
      "source": "\n# Exercise 7 - Create a markdown cell introducing arithmetic expression examples. (1 pt)\n# In a Jupyter Notebook cell, change the cell type to \"Markdown\" and type:\n# ## Arithmetic Expression Examples\n#\n# Below are some examples of basic arithmetic expressions in Python.\n",
      "metadata": {}
    },
    {
      "id": "38ef5ebe-3ad3-43ff-ae4e-9f9a78af4276",
      "cell_type": "code",
      "source": "\n# Exercise 8 - Create a code cell to multiply and add numbers. (2 pts)\n# In a Jupyter Notebook cell, ensure the cell type is \"Code\" and type:\nresult = (3 * 4) + 5\nprint(result)\n",
      "metadata": {
        "trusted": true
      },
      "outputs": [
        {
          "name": "stdout",
          "output_type": "stream",
          "text": "17\n"
        }
      ],
      "execution_count": 3
    },
    {
      "id": "d1af99bc-de86-4b22-95b7-d1dd4c401163",
      "cell_type": "code",
      "source": "\n# Exercise 9 - Create a code cell to convert minutes to hours. (2 pts)\n# In a Jupyter Notebook cell, ensure the cell type is \"Code\" and type:\nminutes = 150\nhours = minutes / 60\nprint(hours)\n",
      "metadata": {
        "trusted": true
      },
      "outputs": [
        {
          "name": "stdout",
          "output_type": "stream",
          "text": "2.5\n"
        }
      ],
      "execution_count": 4
    },
    {
      "id": "ba067c2c-c90e-4db8-8169-f1d543baec7e",
      "cell_type": "markdown",
      "source": "\n# Exercise 10 -Insert a markdown cell to list Objectives. (3 pts)\n# In a Jupyter Notebook cell, change the cell type to \"Markdown\" and type:\n# ## Objectives\n#\n# * Understand common data science languages and libraries.\n# * Explore basic arithmetic operations in Python.\n# * Learn to convert units of time.\n# * Become familiar with common Data Science Tools.\n",
      "metadata": {}
    },
    {
      "id": "2ecfa2af-e512-4250-bc65-fdee40eac0cb",
      "cell_type": "markdown",
      "source": "\n# Exercise 11 - Create a markdown cell to indicate the Author’s name. (2 pts)\n# In a Jupyter Notebook cell, change the cell type to \"Markdown\" and type:\n# ## Author\n#\n# * Your Name Vijay Raj Lothugedda\n",
      "metadata": {}
    },
    {
      "id": "fef9de49-21dd-47a4-9642-b5f73a5b53ad",
      "cell_type": "code",
      "source": "\n# Exercise 12 - Share your notebook through GitHub (3 pts)\n# These are manual steps, not commands to run within the notebook:\n# 1. Save your Jupyter Notebook (.ipynb) file.\n# 2. Go to https://github.com/ and create a new repository.\n# 3. Upload your .ipynb file to the repository.\n# 4. Commit the changes.\n# 5. Copy the URL of your GitHub repository to share.\n",
      "metadata": {
        "trusted": true
      },
      "outputs": [],
      "execution_count": null
    },
    {
      "id": "1ec1e281-8064-4a61-9567-1835875293d9",
      "cell_type": "code",
      "source": "\n# Exercise 13 - Take a screenshot of the first page of the notebook. (1 pt)\n# This is a manual action: Use your operating system's screenshot tool to capture the top part of your notebook.",
      "metadata": {
        "trusted": true
      },
      "outputs": [],
      "execution_count": null
    }
  ]
}